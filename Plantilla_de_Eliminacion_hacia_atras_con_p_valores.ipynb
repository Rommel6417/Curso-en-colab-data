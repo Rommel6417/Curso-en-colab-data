{
  "nbformat": 4,
  "nbformat_minor": 0,
  "metadata": {
    "colab": {
      "provenance": [],
      "authorship_tag": "ABX9TyPkfHFu0DkioEwSPzUsc2CS",
      "include_colab_link": true
    },
    "kernelspec": {
      "name": "python3",
      "display_name": "Python 3"
    },
    "language_info": {
      "name": "python"
    }
  },
  "cells": [
    {
      "cell_type": "markdown",
      "metadata": {
        "id": "view-in-github",
        "colab_type": "text"
      },
      "source": [
        "<a href=\"https://colab.research.google.com/github/Rommel6417/Curso-en-colab-data/blob/main/Plantilla_de_Eliminacion_hacia_atras_con_p_valores.ipynb\" target=\"_parent\"><img src=\"https://colab.research.google.com/assets/colab-badge.svg\" alt=\"Open In Colab\"/></a>"
      ]
    },
    {
      "cell_type": "markdown",
      "source": [
        "#Plantilla solo con p-valores\n"
      ],
      "metadata": {
        "id": "LYJiqykDFthx"
      }
    },
    {
      "cell_type": "code",
      "source": [
        "import statsmodels.formula.api as sm\n",
        "def backwardElimination(x, sl):\n",
        "    numVars = len(x[0])\n",
        "    for i in range(0, numVars):\n",
        "        regressor_OLS = sm.OLS(y, x.tolist()).fit()\n",
        "        maxVar = max(regressor_OLS.pvalues).astype(float)\n",
        "        if maxVar > sl:\n",
        "            for j in range(0, numVars - i):\n",
        "                if (regressor_OLS.pvalues[j].astype(float) == maxVar):\n",
        "                    x = np.delete(x, j, 1)\n",
        "    regressor_OLS.summary()\n",
        "    return x\n",
        "\n",
        "SL = 0.05\n",
        "X_opt = X[:, [0, 1, 2, 3, 4, 5]]\n",
        "X_Modeled = backwardElimination(X_opt, SL)\n",
        "\n"
      ],
      "metadata": {
        "colab": {
          "base_uri": "https://localhost:8080/",
          "height": 140
        },
        "id": "iOFt8iaHFv0t",
        "outputId": "1db1aac9-8fd5-4ed0-e6d5-4e672c961463"
      },
      "execution_count": 1,
      "outputs": [
        {
          "output_type": "error",
          "ename": "SyntaxError",
          "evalue": "ignored",
          "traceback": [
            "\u001b[0;36m  File \u001b[0;32m\"<ipython-input-1-7c9fd4e0b290>\"\u001b[0;36m, line \u001b[0;32m17\u001b[0m\n\u001b[0;31m    Eliminación hacia atrás utilizando  p-valores y el valor de  R Cuadrado Ajustado:\u001b[0m\n\u001b[0m                ^\u001b[0m\n\u001b[0;31mSyntaxError\u001b[0m\u001b[0;31m:\u001b[0m invalid syntax\n"
          ]
        }
      ]
    },
    {
      "cell_type": "markdown",
      "source": [
        "Plantilla con p-valoresy valor de R cuadrado ajustado"
      ],
      "metadata": {
        "id": "8eVLFI4QF5sr"
      }
    },
    {
      "cell_type": "code",
      "source": [
        "import statsmodels.formula.api as sm\n",
        "def backwardElimination(x, SL):\n",
        "    numVars = len(x[0])\n",
        "    temp = np.zeros((50,6)).astype(int)\n",
        "    for i in range(0, numVars):\n",
        "        regressor_OLS = sm.OLS(y, x.tolist()).fit()\n",
        "        maxVar = max(regressor_OLS.pvalues).astype(float)\n",
        "        adjR_before = regressor_OLS.rsquared_adj.astype(float)\n",
        "        if maxVar > SL:\n",
        "            for j in range(0, numVars - i):\n",
        "                if (regressor_OLS.pvalues[j].astype(float) == maxVar):\n",
        "                    temp[:,j] = x[:, j]\n",
        "                    x = np.delete(x, j, 1)\n",
        "                    tmp_regressor = sm.OLS(y, x.tolist()).fit()\n",
        "                    adjR_after = tmp_regressor.rsquared_adj.astype(float)\n",
        "                    if (adjR_before >= adjR_after):\n",
        "                        x_rollback = np.hstack((x, temp[:,[0,j]]))\n",
        "                        x_rollback = np.delete(x_rollback, j, 1)\n",
        "                        print (regressor_OLS.summary())\n",
        "                        return x_rollback\n",
        "                    else:\n",
        "                        continue\n",
        "    regressor_OLS.summary()\n",
        "    return x\n",
        "\n",
        "SL = 0.05\n",
        "X_opt = X[:, [0, 1, 2, 3, 4, 5]]\n",
        "X_Modeled = backwardElimination(X_opt, SL)"
      ],
      "metadata": {
        "id": "HZ64XdjOGMKl"
      },
      "execution_count": null,
      "outputs": []
    }
  ]
}